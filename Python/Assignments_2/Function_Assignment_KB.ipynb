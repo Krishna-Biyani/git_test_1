{
 "cells": [
  {
   "cell_type": "code",
   "execution_count": 7,
   "metadata": {
    "id": "1YVTYu-CuCOO"
   },
   "outputs": [
    {
     "data": {
      "text/plain": [
       "25"
      ]
     },
     "execution_count": 7,
     "metadata": {},
     "output_type": "execute_result"
    }
   ],
   "source": [
    "# Define a function calls addNumber(x, y) that takes in two number and returns the sum of the two numbers.\n",
    "\n",
    "def addNumber(x,y):\n",
    "    return x+y\n",
    "\n",
    "addNumber(10,15)\n"
   ]
  },
  {
   "cell_type": "code",
   "execution_count": 3,
   "metadata": {
    "id": "1-gIq-Rju2i2"
   },
   "outputs": [
    {
     "data": {
      "text/plain": [
       "25"
      ]
     },
     "execution_count": 3,
     "metadata": {},
     "output_type": "execute_result"
    }
   ],
   "source": [
    "# Define a function calls subtractNumber(x, y) that takes in two numbers and returns the difference of the two numbers.\n",
    "\n",
    "def substractNumber(x,y):\n",
    "    return x+y\n",
    "\n",
    "substractNumber(10,15)"
   ]
  },
  {
   "cell_type": "code",
   "execution_count": 8,
   "metadata": {
    "id": "kiAE0iLbviG9"
   },
   "outputs": [
    {
     "data": {
      "text/plain": [
       "20"
      ]
     },
     "execution_count": 8,
     "metadata": {},
     "output_type": "execute_result"
    }
   ],
   "source": [
    "# Write a function getBiggerNumber(x, y) that takes in two numbers as arguments and returns the bigger number.\n",
    "\n",
    "def getBiggerNumber(x, y):\n",
    "    return x if x>y else y\n",
    "\n",
    "getBiggerNumber(15,20)"
   ]
  },
  {
   "cell_type": "code",
   "execution_count": 7,
   "metadata": {
    "id": "10B5oVcZh16d"
   },
   "outputs": [
    {
     "name": "stdout",
     "output_type": "stream",
     "text": [
      "square toot of 16 is:  4.0\n",
      "3 to the power 5 is:  243\n",
      "area of the circle is:  28.274333882308138\n"
     ]
    }
   ],
   "source": [
    "# Python provides many built-in modules with many useful functions. \n",
    "# One such module is the math module. The math module provides many useful functions such as sqrt(x), pow(x, y), ceil(x), floor(x) etc. \n",
    "# You will need to do a \"import math\" before you are allowed to use the functions within the math module.\n",
    "\n",
    "import math\n",
    "\n",
    "# Calculate the square root of 16 and stores it in the variable a\n",
    "a = math.sqrt(16)\n",
    "print(\"square toot of 16 is: \", a)\n",
    "\n",
    "# Calculate 3 to the power of 5 and stores it in the variable b\n",
    "b = pow(3,5)\n",
    "print(\"3 to the power 5 is: \", b)\n",
    "# Calculate area of circle with radius = 3.0 by making use of the math.pi constant and store it in the variable c\n",
    "p = math.pi\n",
    "def a_cir(r):\n",
    "    return p*pow(3.0,2)\n",
    "c = a_cir(3)\n",
    "print(\"area of the circle is: \", c)"
   ]
  },
  {
   "cell_type": "code",
   "execution_count": 15,
   "metadata": {
    "id": "Yado0B99h2E_"
   },
   "outputs": [
    {
     "name": "stdout",
     "output_type": "stream",
     "text": [
      "82.4\n",
      "32.0\n"
     ]
    }
   ],
   "source": [
    "# Write a function to convert temperature from Celsius to Fahrenheit scale.\n",
    "# oC to oF Conversion: Multipy by 9, then divide by 5, then add 32.\n",
    "\n",
    "# Note: Return a string of 2 decimal places.\n",
    "# In - Cel2Fah(28.0)\n",
    "# Out - '82.40'\n",
    "# In - Cel2Fah(0.00)\n",
    "# Out - '32.00'\n",
    "\n",
    "def cel_to_far(c):\n",
    "    f = (c*9/5)+32\n",
    "    return f\n",
    "\n",
    "a = cel_to_far(28.0)\n",
    "print(a)\n",
    "b = cel_to_far(0.0)\n",
    "print(b)"
   ]
  },
  {
   "cell_type": "code",
   "execution_count": 17,
   "metadata": {
    "id": "n7lsFol9h2ID"
   },
   "outputs": [
    {
     "name": "stdout",
     "output_type": "stream",
     "text": [
      "21.8\n",
      "27.5\n"
     ]
    }
   ],
   "source": [
    "# Write a function to compute the BMI of a person.\n",
    "#     BMI = weight(kg)  /  ( height(m)*height(m) )\n",
    "\n",
    "# Note: Return a string of 1 decimal place.\n",
    "# In - BMI(63, 1.7)\n",
    "# Out - '21.8'\n",
    "# In - BMI(110, 2)\n",
    "# Out - '27.5'\n",
    "\n",
    "def cal_BMI(w,h):\n",
    "    BMI = w/(h*h)\n",
    "    return BMI\n",
    "\n",
    "a = cal_BMI(63,1.7)\n",
    "print(round(a,1))\n",
    "b = cal_BMI(110,2)\n",
    "print(b)"
   ]
  },
  {
   "cell_type": "code",
   "execution_count": 19,
   "metadata": {
    "id": "f2tV1AU8h2LN"
   },
   "outputs": [
    {
     "name": "stdout",
     "output_type": "stream",
     "text": [
      "51\n",
      "100\n",
      "525\n"
     ]
    }
   ],
   "source": [
    "# Write a function percent(value, total) that takes in two numbers as arguments, and returns the percentage value as an integer.\n",
    "# In - percent(46, 90)\n",
    "# Out - 51\n",
    "# In - percent(51, 51)\n",
    "# Out - 100\n",
    "# In - percent(63, 12)\n",
    "# Out - 525\n",
    "\n",
    "def percent(a,b):\n",
    "    return a*100/b\n",
    "\n",
    "print(round(percent(46,90)))\n",
    "print(round(percent(51,51)))\n",
    "print(round(percent(63,12)))"
   ]
  },
  {
   "cell_type": "code",
   "execution_count": 27,
   "metadata": {
    "id": "QyoWR3dQh2OZ"
   },
   "outputs": [
    {
     "name": "stdout",
     "output_type": "stream",
     "text": [
      "5\n",
      "13\n"
     ]
    }
   ],
   "source": [
    "# Write a function to compute the hypotenuse given sides a and b of the triangle.\n",
    "# Hint: You can use math.sqrt(x) to compute the square root of x.\n",
    "# In - hypotenuse(3, 4)\n",
    "# Out - 5\n",
    "# In - hypotenuse(5, 12)\n",
    "# Out - 13\n",
    "\n",
    "def hypo(s1,s2):\n",
    "    h = math.sqrt(s1**2+s2**2)\n",
    "    return h\n",
    "\n",
    "print(round(hypo(3,4)))\n",
    "print(round(hypo(5,12)))"
   ]
  },
  {
   "cell_type": "code",
   "execution_count": 7,
   "metadata": {
    "id": "XthPUigkh2Ro"
   },
   "outputs": [
    {
     "name": "stdout",
     "output_type": "stream",
     "text": [
      "9\n",
      "10\n"
     ]
    }
   ],
   "source": [
    "# Write a function getSumOfLastDigits() that takes in a list of positive numbers and returns the sum of all the last digits in the list.\n",
    "# getSumOfLastDigits([2, 3, 4])\n",
    "# 9\n",
    "# getSumOfLastDigits([1, 23, 456])\n",
    "# 10\n",
    "\n",
    "def getsumlastdig(lst):\n",
    "    total = 0\n",
    "    for i in lst:\n",
    "        sum = i%10\n",
    "        total = total+sum\n",
    "    return total\n",
    "\n",
    "print(getsumlastdig([2, 3, 4]))\n",
    "print(getsumlastdig([1, 23, 456]))     "
   ]
  },
  {
   "cell_type": "code",
   "execution_count": 35,
   "metadata": {
    "id": "T-uIqm9Mh2Un"
   },
   "outputs": [
    {
     "name": "stdout",
     "output_type": "stream",
     "text": [
      "my name is Lim.\n",
      "I am 20 years old\n",
      "**************************************************\n",
      "my name is Ahmad.\n",
      "I am 20 years old\n"
     ]
    }
   ],
   "source": [
    "# Write a function that uses a default value.\n",
    "# In - introduce('Lim', 20)\n",
    "# Out - 'My name is Lim. I am 20 years old.'\n",
    "# In - introduce('Ahmad')\n",
    "# Out - 'My name is Ahmad. My age is secret.'\n",
    "\n",
    "def introduce(name, age=20):\n",
    "    print(f'my name is {name}.\\nI am {age} years old')\n",
    "\n",
    "introduce('Lim',20)\n",
    "print('*'*50)\n",
    "introduce('Ahmad')"
   ]
  },
  {
   "cell_type": "code",
   "execution_count": 1,
   "metadata": {
    "id": "h0pXo5vH6wA-"
   },
   "outputs": [
    {
     "name": "stdout",
     "output_type": "stream",
     "text": [
      "None\n",
      "True\n",
      "False\n"
     ]
    }
   ],
   "source": [
    "# Write a function isEquilateral(x, y, z) that accepts the 3 sides of a triangle as arguments. \n",
    "# The program should return True if it is an equilateral triangle.\n",
    "\n",
    "# In - isEquilateral(2, 4, 3)\n",
    "# False - False\n",
    "# In - isEquilateral(3, 3, 3)\n",
    "# Out - True\n",
    "# In - isEquilateral(-3, -3, -3)\n",
    "# Out - False\n",
    "\n",
    "def isEquilateral(x, y, z):\n",
    "    if x<0 or y<0 or z<0:\n",
    "        return False\n",
    "    elif x==y==z:\n",
    "        return True\n",
    "\n",
    "print(isEquilateral(2, 4, 3))\n",
    "print(isEquilateral(3, 3, 3))\n",
    "print(isEquilateral(-3, -3, -3))"
   ]
  },
  {
   "cell_type": "code",
   "execution_count": 2,
   "metadata": {
    "id": "3NvcKCkn6wFy"
   },
   "outputs": [
    {
     "name": "stdout",
     "output_type": "stream",
     "text": [
      "The discriminant is: -8\n",
      "The discriminant is: 1\n",
      "The discriminant is: 0\n"
     ]
    }
   ],
   "source": [
    "# For a quadratic equation in the form of ax2+bx+c, the discriminant, D is b2-4ac. Write a function to compute the discriminant, D.\n",
    "# In - quadratic(1, 2, 3)\n",
    "# Out - 'The discriminant is -8.'\n",
    "# In - quadratic(1, 3, 2)\n",
    "# Out - 'The discriminant is 1.'\n",
    "# In - quadratic(1, 4, 4)\n",
    "# Out - 'The discriminant is 0.'\n",
    "\n",
    "def dicriminant(a,b,c):\n",
    "    d = (b*b)-4*a*c\n",
    "    print('The discriminant is:', d)\n",
    "\n",
    "dicriminant(1,2,3)\n",
    "dicriminant(1,3,2)\n",
    "dicriminant(1,4,4)"
   ]
  },
  {
   "cell_type": "code",
   "execution_count": 4,
   "metadata": {
    "colab": {
     "base_uri": "https://localhost:8080/",
     "height": 34
    },
    "id": "ihmuttBS6wJQ",
    "outputId": "0ef031e9-dec6-4ffe-b1ea-38d836dbcdcf"
   },
   "outputs": [
    {
     "name": "stdout",
     "output_type": "stream",
     "text": [
      "5\n",
      "10\n"
     ]
    }
   ],
   "source": [
    "# Define a function calls addFirstAndLast(x) that takes in a list of numbers and returns the sum of the first and last numbers.\n",
    "# In - addFirstAndLast([])\n",
    "# Out - 0\n",
    "# In - addFirstAndLast([2, 7, 3])\n",
    "# Out - 5\n",
    "# In - addFirstAndLast([10])\n",
    "# Out - 10\n",
    "\n",
    "def addFirstAndLast(lst):\n",
    "  if len(lst) == 1:\n",
    "    return lst[0]\n",
    "  elif lst:\n",
    "    return lst[0] + lst[-1]\n",
    "  else:\n",
    "    return 'List is empty'\n",
    "\n",
    "print(addFirstAndLast([2,7,3]))\n",
    "print(addFirstAndLast([10]))"
   ]
  },
  {
   "cell_type": "code",
   "execution_count": null,
   "metadata": {
    "colab": {
     "base_uri": "https://localhost:8080/",
     "height": 34
    },
    "id": "lEt9HNPI6wM0",
    "outputId": "b07e15c3-a864-454c-aef5-1f1f0e07b39a"
   },
   "outputs": [
    {
     "data": {
      "text/plain": [
       "True"
      ]
     },
     "execution_count": 6,
     "metadata": {
      "tags": []
     },
     "output_type": "execute_result"
    }
   ],
   "source": [
    "# Complete the 'lambda' expression so that it returns True if the argument is an even number, and False otherwise.\n",
    "\n",
    "(lambda num : True if num%2 == 0 else False)(6)"
   ]
  },
  {
   "cell_type": "code",
   "execution_count": null,
   "metadata": {
    "colab": {
     "base_uri": "https://localhost:8080/",
     "height": 35
    },
    "id": "JYWSZXPg6wQN",
    "outputId": "7b71e08d-573f-4d03-d5e3-e220df4c3b90"
   },
   "outputs": [
    {
     "data": {
      "application/vnd.google.colaboratory.intrinsic+json": {
       "type": "string"
      },
      "text/plain": [
       "\"'A function that computes and returns the final score.\""
      ]
     },
     "execution_count": 3,
     "metadata": {
      "tags": []
     },
     "output_type": "execute_result"
    }
   ],
   "source": [
    "# getScore.__doc__\n",
    "# 'A function that computes and returns the final score.'\n",
    "\n",
    "def getScore():\n",
    "  ''''A function that computes and returns the final score.'''\n",
    "  pass\n",
    "getScore.__doc__"
   ]
  },
  {
   "cell_type": "code",
   "execution_count": 11,
   "metadata": {
    "colab": {
     "base_uri": "https://localhost:8080/",
     "height": 34
    },
    "id": "zmi81hi76wTK",
    "outputId": "232b4456-63ad-4582-d2cd-d888952dc957"
   },
   "outputs": [
    {
     "name": "stdout",
     "output_type": "stream",
     "text": [
      "25\n",
      "None\n",
      "100\n",
      "None\n",
      "1\n",
      "None\n"
     ]
    }
   ],
   "source": [
    "# In Python, it is possible to pass a function as a argument to another function. \n",
    "# Write a function useFunction(func, num) that takes in a function and a number as arguments. \n",
    "# The useFunction should produce the output shown in the examples given below.\n",
    "\n",
    "# def addOne(x):\n",
    "#   return x + 1\n",
    "# useFunction(addOne, 4)\n",
    "# 25\n",
    "# useFunction(addOne, 9)\n",
    "# 100\n",
    "# useFunction(addOne, 0)\n",
    "# 1\n",
    "\n",
    "\n",
    "def addOne(x):\n",
    "    return x + 1\n",
    "\n",
    "def useFunction(addOne, n):\n",
    "    print(addOne(n)**2)\n",
    "\n",
    "print(useFunction(addOne, 4))\n",
    "print(useFunction(addOne, 9))\n",
    "print(useFunction(addOne, 0))"
   ]
  },
  {
   "cell_type": "code",
   "execution_count": 5,
   "metadata": {
    "id": "JJm1zFMX6wWK"
   },
   "outputs": [
    {
     "name": "stdout",
     "output_type": "stream",
     "text": [
      "This is f1 function\n"
     ]
    }
   ],
   "source": [
    "def f1():\n",
    "  print('This is f1 function')\n",
    "#   f1()\n",
    "f1()"
   ]
  },
  {
   "cell_type": "code",
   "execution_count": null,
   "metadata": {
    "colab": {
     "base_uri": "https://localhost:8080/",
     "height": 34
    },
    "id": "PBvBwg0O6waD",
    "outputId": "57768b69-c749-4d88-be06-7a9d41a98de2"
   },
   "outputs": [
    {
     "name": "stdout",
     "output_type": "stream",
     "text": [
      "\\t\n"
     ]
    }
   ],
   "source": [
    "print('\\\\t')"
   ]
  }
 ],
 "metadata": {
  "colab": {
   "name": "Function_Assignment.ipynb",
   "provenance": []
  },
  "kernelspec": {
   "display_name": "Python 3 (ipykernel)",
   "language": "python",
   "name": "python3"
  },
  "language_info": {
   "codemirror_mode": {
    "name": "ipython",
    "version": 3
   },
   "file_extension": ".py",
   "mimetype": "text/x-python",
   "name": "python",
   "nbconvert_exporter": "python",
   "pygments_lexer": "ipython3",
   "version": "3.9.13"
  }
 },
 "nbformat": 4,
 "nbformat_minor": 1
}
