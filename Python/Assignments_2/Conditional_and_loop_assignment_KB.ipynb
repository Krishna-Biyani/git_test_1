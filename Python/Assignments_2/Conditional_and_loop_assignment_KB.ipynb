{
 "cells": [
  {
   "cell_type": "markdown",
   "metadata": {
    "id": "wNRNTbrsc53d"
   },
   "source": [
    "# If - elif - else statement"
   ]
  },
  {
   "cell_type": "code",
   "execution_count": 8,
   "metadata": {
    "id": "MiPfTnBycxNa"
   },
   "outputs": [
    {
     "name": "stdout",
     "output_type": "stream",
     "text": [
      "Enter any digit from 0 to 9:  1\n",
      "one\n"
     ]
    }
   ],
   "source": [
    "#W. A P. which takes one number from 0 to 9 from the user and prints it in the word. And if the word is not from 0 to 9 then\n",
    "#it should print that number is outside of the range and program should exit.\n",
    "# For exapmple:- \n",
    "# input = 1\n",
    "# output = one\n",
    "\n",
    "# for digit\n",
    "digit = [0, 1, 2, 3, 4, 5, 6, 7, 8, 9]\n",
    "# for Words\n",
    "word = ['zero', 'one', 'two', 'three', 'four', 'five', 'six', 'seven', 'eight', 'nine']\n",
    "\n",
    "# mapping digit with words\n",
    "out = dict(zip(digit, word))\n",
    "\n",
    "inp = int(input(\"Enter any digit from 0 to 9:  \"))\n",
    "\n",
    "# for output\n",
    "if inp in out:\n",
    "    print(out[inp])\n",
    "else:\n",
    "    print(\"number is outside of the range.\")"
   ]
  },
  {
   "cell_type": "code",
   "execution_count": 1,
   "metadata": {
    "id": "vEMNOv9zdA39"
   },
   "outputs": [
    {
     "name": "stdout",
     "output_type": "stream",
     "text": [
      "Enter First Digit:  12\n",
      "Enter Second Digit:  3\n",
      "\n",
      " Please select any one operation from below:-\n",
      "     * To add enter 1\n",
      "     * to subtract enter 2\n",
      "     * To multiply enter 3\n",
      "     * To divide enter 4\n",
      "     * To divide and find quotient enter 5\n",
      "     * To divide and find remainder enter 6\n",
      "     * To divide and find num1 to the power of num2 enter 7\n",
      "     * To Come out of the program enter 8 \n",
      "2\n",
      "9\n"
     ]
    }
   ],
   "source": [
    "#W. A P. to implement calculator but the operation to be done and two numbers will be taken as input from user:-\n",
    "#Operation console should show below:-\n",
    "#     Please select any one operation from below:-\n",
    "#         * To add enter 1\n",
    "#         * to subtract enter 2\n",
    "#         * To multiply enter 3\n",
    "#         * To divide enter 4\n",
    "#         * To divide and find quotient enter 5\n",
    "#         * To divide and find remainder enter 6\n",
    "#         * To divide and find num1 to the power of num2 enter 7\n",
    "#         * To Come out of the program enter 8\n",
    "\n",
    "# entering users input\n",
    "a = int(input(\"Enter First Digit:  \"))\n",
    "b = int(input(\"Enter Second Digit:  \"))\n",
    "\n",
    "# for operations user want to perform\n",
    "operation = int(input('''\n",
    " Please select any one operation from below:-\n",
    "     * To add enter 1\n",
    "     * to subtract enter 2\n",
    "     * To multiply enter 3\n",
    "     * To divide enter 4\n",
    "     * To divide and find quotient enter 5\n",
    "     * To divide and find remainder enter 6\n",
    "     * To divide and find num1 to the power of num2 enter 7\n",
    "     * To Come out of the program enter 8 \\n'''))\n",
    "\n",
    "# operation need to perform\n",
    "if operation == 1:\n",
    "    print(a+b)\n",
    "elif operation == 2:\n",
    "    print(a-b)\n",
    "elif operation == 3:\n",
    "    print(a*b)\n",
    "elif operation == 4:\n",
    "    print(a/b)\n",
    "elif operation == 5:\n",
    "    print(a//b)\n",
    "elif operation == 6:\n",
    "    print(a%b)\n",
    "elif operation == 7:\n",
    "    print(a**b)\n",
    "else:\n",
    "    print('Invalid Input...!')"
   ]
  },
  {
   "cell_type": "code",
   "execution_count": 4,
   "metadata": {
    "id": "1e2gwYLqdC1s"
   },
   "outputs": [
    {
     "name": "stdout",
     "output_type": "stream",
     "text": [
      "Enter Year: 2400\n",
      "Its leap year:  2400\n"
     ]
    }
   ],
   "source": [
    "#W A P to check whether a year entered by user is an leap year or not?\n",
    "#Check with below input:-\n",
    "    #leap year:- 2012, 1968, 2004, 1200, 1600,2400\n",
    "    #Non-lear year:- 1971, 2006, 1700,1800,1900\n",
    "\n",
    "# enter year\n",
    "inp = int(input('Enter Year: '))\n",
    "\n",
    "# conditions for leap year are: 1--> shoud be divisible by 4.  2--> must be divisible by 400 and not with 100\n",
    "if inp%4 == 0 and (inp%400 == 0 or inp%100 != 0):\n",
    "    print(\"Its leap year: \", inp)\n",
    "else:\n",
    "    print(\"Its not-leap year: \", inp)\n"
   ]
  },
  {
   "cell_type": "code",
   "execution_count": 28,
   "metadata": {
    "id": "_tpXv1EtdEre"
   },
   "outputs": [
    {
     "name": "stdout",
     "output_type": "stream",
     "text": [
      "Enter number: 55\n",
      "Its odd number:  55\n"
     ]
    }
   ],
   "source": [
    "#W A P which takes one number from the user and checks whether it is an even or odd number?, If it even then prints number is \n",
    "#even number else prints that number is odd number.\n",
    "\n",
    "# enter number\n",
    "inp = int(input('Enter number: '))\n",
    "\n",
    "#checking even odd conditions\n",
    "if inp%2 == 0:\n",
    "    print(\"Its even number: \",inp)\n",
    "else:\n",
    "    print(\"Its odd number: \",inp)"
   ]
  },
  {
   "cell_type": "code",
   "execution_count": 25,
   "metadata": {
    "id": "Q1HumymCdG6i"
   },
   "outputs": [
    {
     "name": "stdout",
     "output_type": "stream",
     "text": [
      "Enter First number: 5\n",
      "Enter Second number: 2\n",
      "num1 is greater than num2\n",
      "Enter First number: 5\n",
      "Enter Second number: 2\n",
      "5 is greater than  2\n"
     ]
    }
   ],
   "source": [
    "#W A P which takes two numbers from the user and prints below output:-\n",
    "#     1. num1 is greater than num2 if num1 is greater than num2\n",
    "#     2. num1 is smaller than num2 if num1 is smaller than num2\n",
    "#     3. num1 is equal to num2 if num1 and num2 are equal\n",
    "\n",
    "#Note:- 1. Do this problem using if - else \n",
    "#       2. Do this using ternary operator\n",
    "\n",
    "# entering numbers\n",
    "inp1 = int(input('Enter First number: '))\n",
    "inp2 = int(input('Enter Second number: '))\n",
    "\n",
    "# 1----> using if-else\n",
    "if inp1 > inp2:\n",
    "    print('num1 is greater than num2')\n",
    "elif inp1 < inp2:\n",
    "    print('num1 is smaller than num2')\n",
    "else:\n",
    "    print('num1 is is equal to num2')\n",
    "    \n",
    "# 2----> using ternary operator\n",
    "num1 = int(input('Enter First number: '))\n",
    "num2 = int(input('Enter Second number: '))\n",
    "print(num1,'is greater than ',num2)  if num1>num2 else print(num1,'is smaller than ',num2) if num1<num2 else print(num1,'is equal to ',num2)"
   ]
  },
  {
   "cell_type": "code",
   "execution_count": 26,
   "metadata": {
    "id": "LR6TVB-DdOPf"
   },
   "outputs": [
    {
     "name": "stdout",
     "output_type": "stream",
     "text": [
      "Enter First number: 6\n",
      "Enter Second number: 4\n",
      "Enter Third number: 4\n",
      "num1 is greater than num2 and num3\n",
      "Enter First number: 5\n",
      "Enter Second number: 5\n",
      "Enter Third number: 6\n",
      "6 is greater than  5 and  5\n"
     ]
    }
   ],
   "source": [
    "#W A P which takes three numbers from the user and prints below output:-\n",
    "#     1. num1 is greater than num2 and num3 if num1 is greater than num2 and num3\n",
    "#     2. num2 is greater than num1 and num3 if num2 is greater than num1 and num3\n",
    "#     3. num3 is greater than num1 and num2 if num3 is greater than num1 and num2\n",
    "\n",
    "#Note:- 1. Do this problem using if - elif - else \n",
    "#       2. Do this using ternary operator\n",
    "\n",
    "# a = a if a>b else b\n",
    "\n",
    "\n",
    "# entering numbers\n",
    "num1 = int(input('Enter First number: '))\n",
    "num2 = int(input('Enter Second number: '))\n",
    "num3 = int(input('Enter Third number: '))\n",
    "\n",
    "# 1----> using if-else\n",
    "if num1 > num2 and num1 > num3:\n",
    "    print('num1 is greater than num2 and num3')\n",
    "elif num2 > num1 and num2 > num3:\n",
    "    print('num2 is greater than num1 and num3')\n",
    "elif num3 > num1 and num3 > num2:\n",
    "    print('num3 is greater than num1 and num2')\n",
    "    \n",
    "# 2----> using ternary operator\n",
    "x = int(input('Enter First number: '))\n",
    "y = int(input('Enter Second number: '))\n",
    "z = int(input('Enter Third number: '))\n",
    "print(x,'is greater than ',y,'and ',z) if x>y and x>z else print(y,'is greater than ',x,'and',z) if y>z else print(z,'is greater than ',x,'and ',y)    "
   ]
  },
  {
   "cell_type": "markdown",
   "metadata": {
    "id": "IoOLQMUGdSox"
   },
   "source": [
    "# Loops - for loop, while loop"
   ]
  },
  {
   "cell_type": "code",
   "execution_count": 40,
   "metadata": {
    "id": "9K23Uld8dQfA"
   },
   "outputs": [
    {
     "name": "stdout",
     "output_type": "stream",
     "text": [
      "Enter any string:  Write a Python program to find the length of the my_str\n",
      "55\n"
     ]
    }
   ],
   "source": [
    "#Write a Python program to find the length of the my_str using loop:-\n",
    "\n",
    "#Input:- 'Write a Python program to find the length of the my_str'\n",
    "#Output:- 55\n",
    "\n",
    "# input string\n",
    "string = input(\"Enter any string:  \")\n",
    "count = 0\n",
    "\n",
    "# calculating the lenght of string\n",
    "for i in range(len(string)):\n",
    "    count += 1\n",
    "print(count)"
   ]
  },
  {
   "cell_type": "code",
   "execution_count": 42,
   "metadata": {
    "id": "bp6AcqTsdYxy"
   },
   "outputs": [
    {
     "name": "stdout",
     "output_type": "stream",
     "text": [
      "Enter any string:  peter piper picked a peck of pickled peppers\n",
      "9\n"
     ]
    }
   ],
   "source": [
    "#Write a Python program to find the total number of times letter 'p' is appeared in the below string using loop:-\n",
    "    \n",
    "#Input:- 'peter piper picked a peck of pickled peppers.\\n'\n",
    "#Output:- 9\n",
    "\n",
    "# input string\n",
    "string = input(\"Enter any string:  \")\n",
    "count = 0\n",
    "\n",
    "# calculating appearance of p in string\n",
    "for i in range(len(string)):\n",
    "    if string[i] == 'p':\n",
    "        count += 1\n",
    "print(count)"
   ]
  },
  {
   "cell_type": "code",
   "execution_count": 45,
   "metadata": {
    "id": "xvxSBhTJdav1"
   },
   "outputs": [
    {
     "name": "stdout",
     "output_type": "stream",
     "text": [
      "Enter any string:  peter piper picked a peck of pickled peppers\n",
      "0\n",
      "6\n",
      "8\n",
      "12\n",
      "21\n",
      "29\n",
      "37\n",
      "39\n",
      "40\n"
     ]
    }
   ],
   "source": [
    "#Write a Python Program, to print all the indexes of all occurences of letter 'p' appeared in the string using loop:-\n",
    "    \n",
    "#Input:- 'peter piper picked a peck of pickled peppers.'\n",
    "#Output:- \n",
    "# 0\n",
    "# 6\n",
    "# 8\n",
    "# 12\n",
    "# 21\n",
    "# 29\n",
    "# 37\n",
    "# 39\n",
    "# 40\n",
    "\n",
    "# input string\n",
    "string = input(\"Enter any string:  \")\n",
    "\n",
    "# calculating appearance of p in string\n",
    "for i in range(len(string)):\n",
    "    if string[i] == 'p':\n",
    "        print(i)"
   ]
  },
  {
   "cell_type": "code",
   "execution_count": 15,
   "metadata": {
    "id": "79L_feMadbmw"
   },
   "outputs": [
    {
     "name": "stdout",
     "output_type": "stream",
     "text": [
      "Enter any string:  peter piper picked a peck of pickled peppers.\n",
      "['peter', 'piper', 'picked', 'a', 'peck', 'of', 'pickled', 'peppers.']\n"
     ]
    }
   ],
   "source": [
    "#Write a python program to find below output using loop:-\n",
    "\n",
    "#Input:- 'peter piper picked a peck of pickled peppers.'\n",
    "#Output:- ['peter', 'piper', 'picked', 'a', 'peck', 'of', 'pickled', 'peppers']\n",
    "\n",
    "# input string\n",
    "string = input(\"Enter any string:  \")\n",
    "word = ''\n",
    "\n",
    "# to get output list\n",
    "lst = []\n",
    "\n",
    "#itterate over string:\n",
    "for i in string:\n",
    "    if i != ' ':\n",
    "        word += i\n",
    "    else:\n",
    "        lst.append(word)\n",
    "        word = ''\n",
    "lst.append(word)      \n",
    "print(lst)"
   ]
  },
  {
   "cell_type": "code",
   "execution_count": 6,
   "metadata": {
    "id": "vzs5AJ53deVS"
   },
   "outputs": [
    {
     "name": "stdout",
     "output_type": "stream",
     "text": [
      "peppers. pickled of peck a picked piper peter \n"
     ]
    }
   ],
   "source": [
    "#Write a python program to find below output using loop:-\n",
    "\n",
    "#Input:- 'peter piper picked a peck of pickled peppers.'\n",
    "#Output:- 'peppers pickled of peck a picked piper peter'\n",
    "\n",
    "# input string\n",
    "string = 'peter piper picked a peck of pickled peppers.'\n",
    "string = 'peter piper picked a peck of pickled peppers.'+' '\n",
    "word = ''\n",
    "rev_str = ''\n",
    "\n",
    "for i in range(len(string)):\n",
    "    s = string[i]\n",
    "    if s != ' ':\n",
    "        word = word+s\n",
    "    else:\n",
    "        rev_str = word+\" \"+rev_str\n",
    "        word = ''\n",
    "        rev_str.strip()\n",
    "print(rev_str)\n"
   ]
  },
  {
   "cell_type": "code",
   "execution_count": 1,
   "metadata": {
    "id": "i-HP7DrCdhwS"
   },
   "outputs": [
    {
     "name": "stdout",
     "output_type": "stream",
     "text": [
      ".sreppep delkcip fo kcep a dekcip repip retep\n",
      "__________________________________________________\n",
      ".sreppep delkcip fo kcep a dekcip repip rete\n"
     ]
    }
   ],
   "source": [
    "#Write a python program to find below output using loop:-\n",
    "\n",
    "#Input:- 'peter piper picked a peck of pickled peppers.'\n",
    "#Output:- '.sreppep delkcip fo kcep a dekcip repip retep'\n",
    "\n",
    "string = 'peter piper picked a peck of pickled peppers.'\n",
    "rev = ''\n",
    "\n",
    "#type 1----->\n",
    "\n",
    "for i in string:\n",
    "    rev = i + rev\n",
    "print(rev)\n",
    "\n",
    "print('_'*50)\n",
    "\n",
    "#type 2----->\n",
    "\n",
    "string = 'peter piper picked a peck of pickled peppers.'\n",
    "s = len(string) - 1\n",
    "word = \"\"\n",
    "while s>0:\n",
    "    word = word+string[s]\n",
    "    s = s-1\n",
    "print(word)"
   ]
  },
  {
   "cell_type": "code",
   "execution_count": 14,
   "metadata": {
    "id": "3rt6p0ytdkq0"
   },
   "outputs": [
    {
     "name": "stdout",
     "output_type": "stream",
     "text": [
      "retep repip dekcip a kcep fo delkcip sreppep \n"
     ]
    }
   ],
   "source": [
    "#Write a python program to find below output using loop:-\n",
    "\n",
    "#Input:- 'peter piper picked a peck of pickled peppers.'\n",
    "#Output:- 'retep repip dekcip a kcep fo delkcip sreppep'\n",
    "\n",
    "inp = 'peter piper picked a peck of pickled peppers.'\n",
    "outp=''\n",
    "outp1=''\n",
    "outp2 =''\n",
    "temp = [] \n",
    "\n",
    "for i in inp:\n",
    "    if i == ' ' or i == '.':\n",
    "        outp2=outp1[::-1]\n",
    "        temp.append(outp2)\n",
    "        outp1=''\n",
    "    else:\n",
    "        outp1+=i\n",
    "        \n",
    "for a in temp:\n",
    "    outp+=a+' '\n",
    "print(outp)"
   ]
  },
  {
   "cell_type": "code",
   "execution_count": 2,
   "metadata": {
    "id": "HdlAWgT2dnKO"
   },
   "outputs": [
    {
     "name": "stdout",
     "output_type": "stream",
     "text": [
      "Peter Piper Picked A Peck Of Pickled Peppers.\n"
     ]
    }
   ],
   "source": [
    "#Write a python program to find below output using loop:-\n",
    "\n",
    "#Input:- 'peter piper picked a peck of pickled peppers.'\n",
    "#Output:- 'Peter Piper Picked A Peck Of Pickled Peppers'\n",
    "\n",
    "# input string\n",
    "string = 'Peter Piper Picked A Peck Of Pickled Peppers.'\n",
    "word = ''\n",
    "\n",
    "# condition to  replace a with A\n",
    "for i in string:\n",
    "    if i == 'a':\n",
    "        i = 'A'\n",
    "    else:\n",
    "        word += i\n",
    "print(word)"
   ]
  },
  {
   "cell_type": "code",
   "execution_count": 3,
   "metadata": {
    "id": "OthUuacodrNl"
   },
   "outputs": [
    {
     "name": "stdout",
     "output_type": "stream",
     "text": [
      "Peter Piper Picked  Peck Of Pickled Peppers.\n"
     ]
    }
   ],
   "source": [
    "#Write a python program to find below output using loop:-\n",
    "\n",
    "#Input:- 'Peter Piper Picked A Peck Of Pickled Peppers.'\n",
    "#Output:- 'Peter piper picked a peck of pickled peppers'\n",
    "\n",
    "# input string\n",
    "string = 'Peter Piper Picked A Peck Of Pickled Peppers.'\n",
    "word = ''\n",
    "\n",
    "# condition to  replace a with A\n",
    "for i in string:\n",
    "    if i == 'A':\n",
    "        i = 'a'\n",
    "    else:\n",
    "        word += i\n",
    "print(word)"
   ]
  },
  {
   "cell_type": "code",
   "execution_count": 17,
   "metadata": {
    "colab": {
     "base_uri": "https://localhost:8080/",
     "height": 34
    },
    "id": "scmDJE-ldsI9",
    "outputId": "4b1d1979-9f4a-4bc6-c505-b88b1bbd4d5d"
   },
   "outputs": [
    {
     "name": "stdout",
     "output_type": "stream",
     "text": [
      "29\n"
     ]
    }
   ],
   "source": [
    "#Write a python program to implement index method using loop. If sub_str is found in my_str then it will print the index\n",
    "# of first occurrence of first character of matching string in my_str:-\n",
    "\n",
    "#Input:- my_str = 'Peter Piper Picked A Peck Of Pickled Peppers.', sub_str = 'Pickl'\n",
    "#Output:- 29\n",
    "\n",
    "my_str = 'Peter Piper Picked A Peck Of Pickled Peppers.'\n",
    "sub_str = 'Pickl'\n",
    "\n",
    "if sub_str in my_str:\n",
    "    print(my_str.index(sub_str))\n",
    "else:\n",
    "    print('substring not found')"
   ]
  },
  {
   "cell_type": "code",
   "execution_count": 18,
   "metadata": {
    "id": "Kq_fwdb_dvYE"
   },
   "outputs": [
    {
     "name": "stdout",
     "output_type": "stream",
     "text": [
      "Peter Piper Picked A Pack Of Pickled Peppers.\n"
     ]
    }
   ],
   "source": [
    "#Write a python program to implement replace method using loop. If sub_str is found in my_str then it will replace the first \n",
    "#occurrence of sub_str with new_str else it will will print sub_str not found:-\n",
    "\n",
    "#Input:- my_str = 'Peter Piper Picked A Peck Of Pickled Peppers.', sub_str = 'Peck', new_str = 'Pack'\n",
    "#Output:- 'Peter Piper Picked A Pack Of Pickled Peppers.'\n",
    "\n",
    "my_str = 'Peter Piper Picked A Peck Of Pickled Peppers.'\n",
    "sub_str = 'Peck'\n",
    "new_str = 'Pack'\n",
    "\n",
    "if sub_str in my_str:\n",
    "    print(my_str.replace(sub_str,new_str))\n",
    "else:\n",
    "    print('sub_string not found')\n"
   ]
  },
  {
   "cell_type": "code",
   "execution_count": 19,
   "metadata": {
    "id": "4Qes5D0cdyd1"
   },
   "outputs": [
    {
     "name": "stdout",
     "output_type": "stream",
     "text": [
      "21\n"
     ]
    },
    {
     "data": {
      "text/plain": [
       "'********************Peck*********************'"
      ]
     },
     "execution_count": 19,
     "metadata": {},
     "output_type": "execute_result"
    }
   ],
   "source": [
    "#Write a python program to find below output (implements rjust and ljust) using loop:-\n",
    "\n",
    "#Input:- 'Peter Piper Picked A Peck Of Pickled Peppers.', sub_str = 'Peck', \n",
    "#Output:- '*********************Peck********************'\n",
    "\n",
    "my_str = 'Peter Piper Picked A Peck Of Pickled Peppers.'\n",
    "sub_str = 'Peck'\n",
    "\n",
    "if sub_str in my_str:\n",
    "    pos = my_str.index(sub_str)\n",
    "    print(pos)\n",
    "\n",
    "sub_str.rjust(len(my_str)-pos,'*').ljust(len(my_str),'*')\n"
   ]
  },
  {
   "cell_type": "code",
   "execution_count": 20,
   "metadata": {
    "id": "DsOrb07Od0lR"
   },
   "outputs": [
    {
     "name": "stdout",
     "output_type": "stream",
     "text": [
      "['This', ' is', 'Python class']\n"
     ]
    }
   ],
   "source": [
    "#Write a python program to find below output using loop:-\n",
    "\n",
    "#Input:- 'This is Python class', sep = ' is', \n",
    "#Output:- ['This', 'is', 'Python class']\n",
    "\n",
    "str_in = 'This is Python class'\n",
    "sep = ' is'\n",
    "temp=''\n",
    "str_out=[]\n",
    "pos = str_in.index(sep)\n",
    "pos1 = pos+len(sep)\n",
    "\n",
    "for x in range(0,pos):\n",
    "    temp=temp+str_in[x]\n",
    "str_out.append(temp)\n",
    "temp=''\n",
    "str_out.append(sep)\n",
    "\n",
    "    \n",
    "for x in range (pos1+1,len(str_in)):\n",
    "    temp= temp+str_in[x]\n",
    "str_out.append(temp)\n",
    "print(str_out)"
   ]
  },
  {
   "cell_type": "code",
   "execution_count": null,
   "metadata": {
    "id": "jRnBVufmd2Ay"
   },
   "outputs": [],
   "source": [
    "\n",
    "\n"
   ]
  }
 ],
 "metadata": {
  "colab": {
   "name": "Conditional_and_loop_assignment.ipynb",
   "provenance": []
  },
  "kernelspec": {
   "display_name": "Python 3 (ipykernel)",
   "language": "python",
   "name": "python3"
  },
  "language_info": {
   "codemirror_mode": {
    "name": "ipython",
    "version": 3
   },
   "file_extension": ".py",
   "mimetype": "text/x-python",
   "name": "python",
   "nbconvert_exporter": "python",
   "pygments_lexer": "ipython3",
   "version": "3.9.13"
  }
 },
 "nbformat": 4,
 "nbformat_minor": 1
}
