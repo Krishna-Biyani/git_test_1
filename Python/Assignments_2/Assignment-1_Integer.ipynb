{
 "cells": [
  {
   "cell_type": "code",
   "execution_count": 1,
   "id": "44f98260",
   "metadata": {},
   "outputs": [],
   "source": [
    "# Assignement"
   ]
  },
  {
   "cell_type": "code",
   "execution_count": null,
   "id": "338e7a1c",
   "metadata": {},
   "outputs": [],
   "source": [
    "# Q.1 Declare an int value and store it in a variable. Check the type and print the id of the same."
   ]
  },
  {
   "cell_type": "code",
   "execution_count": 4,
   "id": "391237d4",
   "metadata": {},
   "outputs": [
    {
     "name": "stdout",
     "output_type": "stream",
     "text": [
      "<class 'int'>\n",
      "2216735238736\n"
     ]
    }
   ],
   "source": [
    "a = 10\n",
    "print(type(a))\n",
    "print(id(a))"
   ]
  },
  {
   "cell_type": "code",
   "execution_count": null,
   "id": "714f070b",
   "metadata": {},
   "outputs": [],
   "source": [
    "# Q.2 Take one int value between 0 - 256.\n",
    "# Assign it to two different variables.\n",
    "# Check the id of both the variables. It should come the same. Check why?\n"
   ]
  },
  {
   "cell_type": "code",
   "execution_count": null,
   "id": "f08d36e6",
   "metadata": {},
   "outputs": [],
   "source": [
    "# ANS- The values for both the variables will be the because of the python's object reusability consept."
   ]
  },
  {
   "cell_type": "code",
   "execution_count": 5,
   "id": "7ffaf412",
   "metadata": {},
   "outputs": [
    {
     "name": "stdout",
     "output_type": "stream",
     "text": [
      "2216735430096    2216735430096\n"
     ]
    }
   ],
   "source": [
    "b = 100\n",
    "c = 100\n",
    "print(id(b),\"  \",id(c))"
   ]
  },
  {
   "cell_type": "code",
   "execution_count": null,
   "id": "4bf43d34",
   "metadata": {},
   "outputs": [],
   "source": [
    "# Q.3 Take one int value either less than -5 or greater than 256.\n",
    "# Assign it to two different variables.\n",
    "# Check the id of both the variables. It should come different.Check why?"
   ]
  },
  {
   "cell_type": "code",
   "execution_count": null,
   "id": "3077777b",
   "metadata": {},
   "outputs": [],
   "source": [
    "# ANS- The values for both the variables will be different as the object reusability is not applicable for the integers which are not in the range -5 to 256. "
   ]
  },
  {
   "cell_type": "code",
   "execution_count": 7,
   "id": "6b877671",
   "metadata": {},
   "outputs": [
    {
     "name": "stdout",
     "output_type": "stream",
     "text": [
      "2216818707856    2216818706192\n"
     ]
    }
   ],
   "source": [
    "p = 500\n",
    "q = 500\n",
    "print(id(p),\"  \",id(q))"
   ]
  },
  {
   "cell_type": "code",
   "execution_count": null,
   "id": "13104fd5",
   "metadata": {},
   "outputs": [],
   "source": [
    "# Q.4 Arithmetic Operations on integers\n",
    "# Take two different integer values.\n",
    "# Store them in two different variables.\n",
    "# Do below operations on them:-\n",
    "# Find sum of both numbers\n",
    "# Find difference between them\n",
    "# Find the product of both numbers.\n",
    "# Find value after dividing first num with second number\n",
    "# Find the remainder after dividing first number with second number\n",
    "# Find the quotient after dividing first number with second number\n",
    "# Find the result of the first num to the power of the second number."
   ]
  },
  {
   "cell_type": "code",
   "execution_count": 8,
   "id": "c0e8b9e4",
   "metadata": {},
   "outputs": [
    {
     "name": "stdout",
     "output_type": "stream",
     "text": [
      "35\n",
      "-5\n",
      "300\n",
      "0.75\n",
      "15\n",
      "0\n",
      "332525673007965087890625\n"
     ]
    }
   ],
   "source": [
    "x = 15\n",
    "y = 20\n",
    "print(x+y)\n",
    "print(x-y)\n",
    "print(x*y)\n",
    "print(x/y)\n",
    "print(x%y)\n",
    "print(x//y)\n",
    "print(x**y)"
   ]
  },
  {
   "cell_type": "code",
   "execution_count": 1,
   "id": "894562e1",
   "metadata": {},
   "outputs": [],
   "source": [
    "# Q.5 Comparison Operators on boolean values\n",
    "# Take two different boolean values.\n",
    "# Store them in two different variables.\n",
    "# Do below operations on them:-\n",
    "# Compare these two values with below operator:-\n",
    "# Greater than, '>'\n",
    "# less than, '<'\n",
    "# Greater than or equal to, '>='\n",
    "# Less than or equal to, '<='\n",
    "# Observe their output(return type should be boolean)"
   ]
  },
  {
   "cell_type": "code",
   "execution_count": 3,
   "id": "5f6f6532",
   "metadata": {},
   "outputs": [
    {
     "name": "stdout",
     "output_type": "stream",
     "text": [
      "True\n",
      "False\n",
      "True\n",
      "False\n"
     ]
    }
   ],
   "source": [
    "t = True\n",
    "f = False\n",
    "print(t > f)\n",
    "print(t < f)\n",
    "print(t >= f)\n",
    "print(t <= f)"
   ]
  },
  {
   "cell_type": "code",
   "execution_count": 4,
   "id": "86f85727",
   "metadata": {},
   "outputs": [],
   "source": [
    "# Q.6 Equality Operator\n",
    "# Take two different boolean values.\n",
    "# Store them in two different variables.\n",
    "# Equate them using equality operators (==, !=)\n",
    "# Observe the output(return type should be boolean)"
   ]
  },
  {
   "cell_type": "code",
   "execution_count": 5,
   "id": "2d1040be",
   "metadata": {},
   "outputs": [
    {
     "name": "stdout",
     "output_type": "stream",
     "text": [
      "False\n",
      "True\n"
     ]
    }
   ],
   "source": [
    "c = 0\n",
    "d = 1\n",
    "print(c == d)\n",
    "print(c != d)"
   ]
  },
  {
   "cell_type": "code",
   "execution_count": 6,
   "id": "f2a2fac6",
   "metadata": {},
   "outputs": [],
   "source": [
    "# Q.7 Logical operators\n",
    "# Observe the output of below code\n",
    "# Cross check the output manually"
   ]
  },
  {
   "cell_type": "code",
   "execution_count": 7,
   "id": "7b2d35c5",
   "metadata": {},
   "outputs": [
    {
     "name": "stdout",
     "output_type": "stream",
     "text": [
      "True\n"
     ]
    }
   ],
   "source": [
    "print(True and True)"
   ]
  },
  {
   "cell_type": "code",
   "execution_count": 8,
   "id": "a4af817e",
   "metadata": {},
   "outputs": [
    {
     "name": "stdout",
     "output_type": "stream",
     "text": [
      "False\n"
     ]
    }
   ],
   "source": [
    "print(False and True)"
   ]
  },
  {
   "cell_type": "code",
   "execution_count": 9,
   "id": "8fc4128b",
   "metadata": {},
   "outputs": [
    {
     "name": "stdout",
     "output_type": "stream",
     "text": [
      "False\n"
     ]
    }
   ],
   "source": [
    "print(True and False)"
   ]
  },
  {
   "cell_type": "code",
   "execution_count": 10,
   "id": "5014a63a",
   "metadata": {},
   "outputs": [
    {
     "name": "stdout",
     "output_type": "stream",
     "text": [
      "False\n"
     ]
    }
   ],
   "source": [
    "print(False and False)"
   ]
  },
  {
   "cell_type": "code",
   "execution_count": 11,
   "id": "2eb0985d",
   "metadata": {},
   "outputs": [
    {
     "name": "stdout",
     "output_type": "stream",
     "text": [
      "True\n"
     ]
    }
   ],
   "source": [
    "print(True or True)"
   ]
  },
  {
   "cell_type": "code",
   "execution_count": 12,
   "id": "8f15800d",
   "metadata": {},
   "outputs": [
    {
     "name": "stdout",
     "output_type": "stream",
     "text": [
      "True\n"
     ]
    }
   ],
   "source": [
    "print(False or True)"
   ]
  },
  {
   "cell_type": "code",
   "execution_count": 13,
   "id": "18e67340",
   "metadata": {},
   "outputs": [
    {
     "name": "stdout",
     "output_type": "stream",
     "text": [
      "True\n"
     ]
    }
   ],
   "source": [
    "print(True or False)"
   ]
  },
  {
   "cell_type": "code",
   "execution_count": 14,
   "id": "1651a9d6",
   "metadata": {},
   "outputs": [
    {
     "name": "stdout",
     "output_type": "stream",
     "text": [
      "False\n"
     ]
    }
   ],
   "source": [
    "print(False or False)"
   ]
  },
  {
   "cell_type": "code",
   "execution_count": 15,
   "id": "0ab3f7e3",
   "metadata": {},
   "outputs": [
    {
     "name": "stdout",
     "output_type": "stream",
     "text": [
      "False\n"
     ]
    }
   ],
   "source": [
    "print(not True)"
   ]
  },
  {
   "cell_type": "code",
   "execution_count": 16,
   "id": "690eb799",
   "metadata": {},
   "outputs": [
    {
     "name": "stdout",
     "output_type": "stream",
     "text": [
      "True\n"
     ]
    }
   ],
   "source": [
    "print(not False)"
   ]
  },
  {
   "cell_type": "code",
   "execution_count": null,
   "id": "428e7ac9",
   "metadata": {},
   "outputs": [],
   "source": [
    "# Q.8 Bitwise Operators\n",
    "# Do below operations on the values provided below:-"
   ]
  },
  {
   "cell_type": "code",
   "execution_count": 1,
   "id": "737c3604",
   "metadata": {},
   "outputs": [
    {
     "data": {
      "text/plain": [
       "0"
      ]
     },
     "execution_count": 1,
     "metadata": {},
     "output_type": "execute_result"
    }
   ],
   "source": [
    "10 & 20"
   ]
  },
  {
   "cell_type": "code",
   "execution_count": 2,
   "id": "cfa97da0",
   "metadata": {},
   "outputs": [
    {
     "data": {
      "text/plain": [
       "30"
      ]
     },
     "execution_count": 2,
     "metadata": {},
     "output_type": "execute_result"
    }
   ],
   "source": [
    "10 | 20"
   ]
  },
  {
   "cell_type": "code",
   "execution_count": 3,
   "id": "426e1142",
   "metadata": {},
   "outputs": [
    {
     "data": {
      "text/plain": [
       "30"
      ]
     },
     "execution_count": 3,
     "metadata": {},
     "output_type": "execute_result"
    }
   ],
   "source": [
    "10 ^ 20"
   ]
  },
  {
   "cell_type": "code",
   "execution_count": 5,
   "id": "89ca7e7a",
   "metadata": {},
   "outputs": [
    {
     "data": {
      "text/plain": [
       "-11"
      ]
     },
     "execution_count": 5,
     "metadata": {},
     "output_type": "execute_result"
    }
   ],
   "source": [
    "~ 10"
   ]
  },
  {
   "cell_type": "code",
   "execution_count": 6,
   "id": "31008dc3",
   "metadata": {},
   "outputs": [
    {
     "data": {
      "text/plain": [
       "40"
      ]
     },
     "execution_count": 6,
     "metadata": {},
     "output_type": "execute_result"
    }
   ],
   "source": [
    "10 << 2"
   ]
  },
  {
   "cell_type": "code",
   "execution_count": 7,
   "id": "ceb6cf85",
   "metadata": {},
   "outputs": [
    {
     "data": {
      "text/plain": [
       "2"
      ]
     },
     "execution_count": 7,
     "metadata": {},
     "output_type": "execute_result"
    }
   ],
   "source": [
    "10 >> 2"
   ]
  },
  {
   "cell_type": "code",
   "execution_count": 8,
   "id": "35f508d3",
   "metadata": {},
   "outputs": [
    {
     "name": "stdout",
     "output_type": "stream",
     "text": [
      "True\n",
      "False\n",
      "False\n",
      "True\n"
     ]
    }
   ],
   "source": [
    "# Q.9 What is the output of expression inside print statement. Cross check\n",
    "# before running the program.\n",
    "\n",
    "a = 10\n",
    "b = 10\n",
    "print(a is b) #True or False?\n",
    "print(a is not b) #True or False?\n",
    "a = 1000\n",
    "b = 1000\n",
    "print(a is b) #True or False?\n",
    "print(a is not b) #True or False?"
   ]
  },
  {
   "cell_type": "code",
   "execution_count": 15,
   "id": "2d4fbb8b",
   "metadata": {},
   "outputs": [
    {
     "name": "stdout",
     "output_type": "stream",
     "text": [
      "20\n"
     ]
    }
   ],
   "source": [
    "# Q.10 What is the output of expression inside print statement. Cross check\n",
    "# before running the program.\n",
    "print(10+(10*32)//2**5&20+(~(-10))<<2)\n",
    "\n",
    "# (10+(320)//2**5&20+(-9)<<2)\n",
    "# (10+(320)//32&20+(-9)<<2)\n",
    "# (10+10&20-36)\n",
    "# (10+0-36)\n",
    "# -26"
   ]
  },
  {
   "cell_type": "code",
   "execution_count": 18,
   "id": "520760e9",
   "metadata": {},
   "outputs": [
    {
     "name": "stdout",
     "output_type": "stream",
     "text": [
      "True\n",
      "True\n",
      "True\n",
      "True\n",
      "True\n"
     ]
    }
   ],
   "source": [
    "# Q.11 Membership operation\n",
    "# in, not in are two membership operators and it returns boolean value\n",
    "\n",
    "print('2' in 'Python2.7.8') #True\n",
    "print(10 in [10,10.20,10+20j,'Python']) #True\n",
    "print(2 in {1,2,3}) #True\n",
    "print(3 in {1:100, 2:200, 3:300}) #True\n",
    "print(10 in range(20)) #True"
   ]
  },
  {
   "cell_type": "code",
   "execution_count": 27,
   "id": "069cd4e6",
   "metadata": {},
   "outputs": [
    {
     "name": "stdout",
     "output_type": "stream",
     "text": [
      "0b11001   0o50   0x78  \n",
      "0b10011010001011\n",
      "0o23213\n",
      "0x268b\n"
     ]
    }
   ],
   "source": [
    "# Q.12 An integer can be represented in binary, octal or hexadecimal form.\n",
    "# Declare one binary, one octal and one hexadecimal value and store them\n",
    "# in three different variables.\n",
    "# Convert 9876 to its binary, octal and hexadecimal equivalent and print\n",
    "# their corresponding value.\n",
    "\n",
    "a = bin(25)\n",
    "b = oct(40)\n",
    "c = hex(120)\n",
    "print(a, \" \",b, \" \", c, \" \")\n",
    "\n",
    "print(bin(9867))\n",
    "print(oct(9867))\n",
    "print(hex(9867))"
   ]
  },
  {
   "cell_type": "code",
   "execution_count": 28,
   "id": "fdb9810f",
   "metadata": {},
   "outputs": [],
   "source": [
    "# Q.13 What will be the output of following:-"
   ]
  },
  {
   "cell_type": "code",
   "execution_count": 29,
   "id": "d9546c52",
   "metadata": {},
   "outputs": [
    {
     "name": "stdout",
     "output_type": "stream",
     "text": [
      "80\n"
     ]
    }
   ],
   "source": [
    "a = 0b1010000\n",
    "print(a)"
   ]
  },
  {
   "cell_type": "code",
   "execution_count": 30,
   "id": "bbcdb46d",
   "metadata": {},
   "outputs": [
    {
     "name": "stdout",
     "output_type": "stream",
     "text": [
      "3870\n"
     ]
    }
   ],
   "source": [
    "b = 0o7436\n",
    "print(b)"
   ]
  },
  {
   "cell_type": "code",
   "execution_count": 31,
   "id": "6a6454e2",
   "metadata": {},
   "outputs": [
    {
     "name": "stdout",
     "output_type": "stream",
     "text": [
      "64222\n"
     ]
    }
   ],
   "source": [
    "c = 0xfade\n",
    "print(c)"
   ]
  },
  {
   "cell_type": "code",
   "execution_count": 32,
   "id": "ef258144",
   "metadata": {},
   "outputs": [
    {
     "name": "stdout",
     "output_type": "stream",
     "text": [
      "0b1010000\n"
     ]
    }
   ],
   "source": [
    "print(bin(80))"
   ]
  },
  {
   "cell_type": "code",
   "execution_count": 33,
   "id": "b72badc2",
   "metadata": {},
   "outputs": [
    {
     "name": "stdout",
     "output_type": "stream",
     "text": [
      "0o7436\n"
     ]
    }
   ],
   "source": [
    "print(oct(3870))"
   ]
  },
  {
   "cell_type": "code",
   "execution_count": 34,
   "id": "763f115b",
   "metadata": {},
   "outputs": [
    {
     "name": "stdout",
     "output_type": "stream",
     "text": [
      "0xfade\n"
     ]
    }
   ],
   "source": [
    "print(hex(64222))"
   ]
  },
  {
   "cell_type": "code",
   "execution_count": 35,
   "id": "3d60df0c",
   "metadata": {},
   "outputs": [
    {
     "name": "stdout",
     "output_type": "stream",
     "text": [
      "0b1010000\n"
     ]
    }
   ],
   "source": [
    "print(bin(0b1010000))"
   ]
  },
  {
   "cell_type": "code",
   "execution_count": 36,
   "id": "f35513cd",
   "metadata": {},
   "outputs": [
    {
     "name": "stdout",
     "output_type": "stream",
     "text": [
      "0b1111101011011110\n"
     ]
    }
   ],
   "source": [
    "print(bin(0xfade))"
   ]
  },
  {
   "cell_type": "code",
   "execution_count": 37,
   "id": "d3a7a312",
   "metadata": {},
   "outputs": [
    {
     "name": "stdout",
     "output_type": "stream",
     "text": [
      "0o175336\n"
     ]
    }
   ],
   "source": [
    "print(oct(0xfade))"
   ]
  },
  {
   "cell_type": "code",
   "execution_count": 38,
   "id": "cc385011",
   "metadata": {},
   "outputs": [
    {
     "name": "stdout",
     "output_type": "stream",
     "text": [
      "0o7436\n"
     ]
    }
   ],
   "source": [
    "print(oct(0o7436))"
   ]
  },
  {
   "cell_type": "code",
   "execution_count": 39,
   "id": "dc25e17f",
   "metadata": {},
   "outputs": [
    {
     "name": "stdout",
     "output_type": "stream",
     "text": [
      "0x50\n"
     ]
    }
   ],
   "source": [
    "print(hex(0b1010000))"
   ]
  },
  {
   "cell_type": "code",
   "execution_count": 40,
   "id": "2fd3a7ee",
   "metadata": {},
   "outputs": [
    {
     "name": "stdout",
     "output_type": "stream",
     "text": [
      "0xfade\n"
     ]
    }
   ],
   "source": [
    "print(hex(0xfade))"
   ]
  },
  {
   "cell_type": "code",
   "execution_count": null,
   "id": "449106c0",
   "metadata": {},
   "outputs": [],
   "source": []
  }
 ],
 "metadata": {
  "kernelspec": {
   "display_name": "Python 3 (ipykernel)",
   "language": "python",
   "name": "python3"
  },
  "language_info": {
   "codemirror_mode": {
    "name": "ipython",
    "version": 3
   },
   "file_extension": ".py",
   "mimetype": "text/x-python",
   "name": "python",
   "nbconvert_exporter": "python",
   "pygments_lexer": "ipython3",
   "version": "3.9.13"
  }
 },
 "nbformat": 4,
 "nbformat_minor": 5
}
