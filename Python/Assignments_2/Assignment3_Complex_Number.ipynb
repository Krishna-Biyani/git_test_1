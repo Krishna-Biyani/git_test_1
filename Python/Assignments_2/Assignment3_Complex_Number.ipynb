{
 "cells": [
  {
   "cell_type": "code",
   "execution_count": null,
   "id": "914744e8",
   "metadata": {},
   "outputs": [],
   "source": [
    "# Q.1 Declare a complex number and store it in a variable.\n",
    "# Check the type and print the id of the same.\n"
   ]
  },
  {
   "cell_type": "code",
   "execution_count": 2,
   "id": "ff7ffd46",
   "metadata": {},
   "outputs": [
    {
     "name": "stdout",
     "output_type": "stream",
     "text": [
      "<class 'complex'> 2108103595312\n"
     ]
    }
   ],
   "source": [
    "a = 10+15j\n",
    "print(type(a), id(a))"
   ]
  },
  {
   "cell_type": "code",
   "execution_count": null,
   "id": "3290a158",
   "metadata": {},
   "outputs": [],
   "source": [
    "# Q.2 Arithmetic Operations on complex number\n",
    "# Take two different complex numbers.\n",
    "# Store them in two different variables.\n",
    "# Do below operations on them:-\n",
    "# Find sum of both numbers\n",
    "# Find difference between them\n",
    "# Find the product of both numbers.\n",
    "# Find value after dividing first num with second number\n",
    "# Find the result of the first num to the power of the second number.\n"
   ]
  },
  {
   "cell_type": "code",
   "execution_count": 11,
   "id": "7110e741",
   "metadata": {},
   "outputs": [
    {
     "name": "stdout",
     "output_type": "stream",
     "text": [
      "(44+47j)\n",
      "(22-19j)\n",
      "(-99+1243j)\n",
      "(0.6818181818181819-0.7727272727272728j)\n",
      "(-223181888953.69055-1536465304.2591958j)\n"
     ]
    }
   ],
   "source": [
    "b = 33+14j\n",
    "c = 11+33J\n",
    "print(b+c)\n",
    "print(b-c)\n",
    "print(b*c)\n",
    "print(b/c)\n",
    "print(b**c)"
   ]
  },
  {
   "cell_type": "code",
   "execution_count": null,
   "id": "a3c88a43",
   "metadata": {},
   "outputs": [],
   "source": [
    "# Q.3 Comparison Operation not applicable between instance of complex\n",
    "# values.\n",
    "# Object reusability concept is not applicable on complex number\n"
   ]
  },
  {
   "cell_type": "code",
   "execution_count": null,
   "id": "d016b74b",
   "metadata": {},
   "outputs": [],
   "source": [
    "# as complex number conatins the imaginery part in it, the values cannot be same also \n",
    "# thats the reason it doesn't follow the consept of object reusability."
   ]
  },
  {
   "cell_type": "code",
   "execution_count": null,
   "id": "dde4347e",
   "metadata": {},
   "outputs": [],
   "source": [
    "# Q.4 Equality Operator\n",
    "# Take two different complex numbers.\n",
    "# Store them in two different variables.\n",
    "# Equate them using equality operators (==, !=)\n",
    "# Observe the output(return type should be boolean)\n"
   ]
  },
  {
   "cell_type": "code",
   "execution_count": 12,
   "id": "afd33ed3",
   "metadata": {},
   "outputs": [
    {
     "name": "stdout",
     "output_type": "stream",
     "text": [
      "False and True\n"
     ]
    }
   ],
   "source": [
    "x = 77+33j\n",
    "y = 98.99j\n",
    "print(x == y, 'and', x != y)"
   ]
  },
  {
   "cell_type": "code",
   "execution_count": null,
   "id": "d0d84941",
   "metadata": {},
   "outputs": [],
   "source": [
    "# Q.5 Logical operators\n",
    "# Observe the output of below code\n",
    "# Cross check the output manually\n",
    "# print(10+20j and 20+30j) #20+30j\n",
    "# #----------------------------------------->Output is 20+30j\n",
    "# print(0+0j and 20+30j) #0+0j\n",
    "# #----------------------------------------->Output is 0j\n",
    "# print(20+30j and 0+0j) #0+0j\n",
    "# #----------------------------------------->Output is 0j\n",
    "# print(0+0j and 0+0j) #0+0j\n",
    "# #----------------------------------------->Output is 0j\n",
    "# print(10+20j or 20+30j) #10+20j\n",
    "# #----------------------------------------->Output is 10+20j\n",
    "\n",
    "# print(0+0j or 20+30j) #20+30j\n",
    "# #----------------------------------------->Output is 20+30j\n",
    "# print(20+30j or 0+0j) #20+30j\n",
    "# #----------------------------------------->Output is 20+30j\n",
    "# print(0+0j or 0+0j) #0+0j\n",
    "# #----------------------------------------->Output is 0j\n",
    "# print(not 10+20j) #False\n",
    "# #----------------------------------------->Output is False\n",
    "# print(not 0+0j) #True\n",
    "# #----------------------------------------->Output is True\n"
   ]
  },
  {
   "cell_type": "code",
   "execution_count": 18,
   "id": "522f4888",
   "metadata": {},
   "outputs": [
    {
     "name": "stdout",
     "output_type": "stream",
     "text": [
      "(20+30j)\n",
      "0j\n",
      "0j\n",
      "0j\n",
      "(10+20j)\n",
      "(20+30j)\n",
      "(20+30j)\n",
      "0j\n",
      "False\n",
      "True\n"
     ]
    }
   ],
   "source": [
    "print(10+20j and 20+30j)\n",
    "print(0+0j and 20+30j)\n",
    "print(20+30j and 0+0j)\n",
    "print(0+0j and 0+0j)\n",
    "print(10+20j or 20+30j)\n",
    "print(0+0j or 20+30j)\n",
    "print(20+30j or 0+0j)\n",
    "print(0+0j or 0+0j)\n",
    "print(not 10+20j)\n",
    "print(not 0+0j)"
   ]
  },
  {
   "cell_type": "code",
   "execution_count": null,
   "id": "b57adeb4",
   "metadata": {},
   "outputs": [],
   "source": [
    "# Q.6 What is the output of the expression inside the print statement.\n",
    "# Cross check before running the program.\n",
    "# a = 10+20j\n",
    "# b = 10+20j\n",
    "# print(a is b) #False #True or False?\n",
    "# print(a is not b) #True #True or False?\n"
   ]
  },
  {
   "cell_type": "code",
   "execution_count": 20,
   "id": "3cdc8298",
   "metadata": {},
   "outputs": [
    {
     "name": "stdout",
     "output_type": "stream",
     "text": [
      "False\n",
      "True\n"
     ]
    }
   ],
   "source": [
    "a = 10+20j\n",
    "b = 10+20j\n",
    "\n",
    "print(a is b)\n",
    "print(a is not b)"
   ]
  },
  {
   "cell_type": "code",
   "execution_count": null,
   "id": "20f0dd2e",
   "metadata": {},
   "outputs": [],
   "source": [
    "# Q.7 Membership operation\n",
    "# in, not in are two membership operators and it returns boolean value\n",
    "# print('2.7' in 'Python2.7.8') #True\n",
    "# print(10+20j in [10,10.20,10+20j,'Python']) #True\n",
    "# print(10+20j in (10,10.20,10+20j,'Python')) #True\n",
    "# print(30+40j in {1,20.30,30+40j}) #True\n",
    "# print(30+40j in {1:100, 2.3:200, 30+40j:300}) #True\n",
    "# print(10 in range(20)) #True"
   ]
  },
  {
   "cell_type": "code",
   "execution_count": 21,
   "id": "c45db164",
   "metadata": {},
   "outputs": [
    {
     "name": "stdout",
     "output_type": "stream",
     "text": [
      "True\n",
      "True\n",
      "True\n",
      "True\n",
      "True\n",
      "True\n"
     ]
    }
   ],
   "source": [
    "print('2.7' in 'Python2.7.8')\n",
    "print(10+20j in [10,10.20,10+20j,'Python'])\n",
    "print(10+20j in (10,10.20,10+20j,'Python'))\n",
    "print(30+40j in {1,20.30,30+40j})\n",
    "print(30+40j in {1:100, 2.3:200, 30+40j:300})\n",
    "print(10 in range(20))"
   ]
  },
  {
   "cell_type": "code",
   "execution_count": null,
   "id": "c5b9bd2e",
   "metadata": {},
   "outputs": [],
   "source": []
  }
 ],
 "metadata": {
  "kernelspec": {
   "display_name": "Python 3 (ipykernel)",
   "language": "python",
   "name": "python3"
  },
  "language_info": {
   "codemirror_mode": {
    "name": "ipython",
    "version": 3
   },
   "file_extension": ".py",
   "mimetype": "text/x-python",
   "name": "python",
   "nbconvert_exporter": "python",
   "pygments_lexer": "ipython3",
   "version": "3.9.13"
  }
 },
 "nbformat": 4,
 "nbformat_minor": 5
}
