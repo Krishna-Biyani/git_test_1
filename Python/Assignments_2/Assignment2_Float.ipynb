{
 "cells": [
  {
   "cell_type": "code",
   "execution_count": null,
   "id": "39a10ca7",
   "metadata": {},
   "outputs": [],
   "source": [
    "# Q.1 Declare a float value and store it in a variable.\n",
    "# Check the type and print the id of the same.\n"
   ]
  },
  {
   "cell_type": "code",
   "execution_count": 1,
   "id": "76a1379a",
   "metadata": {},
   "outputs": [
    {
     "name": "stdout",
     "output_type": "stream",
     "text": [
      "<class 'float'>\n",
      "2036663986864\n"
     ]
    }
   ],
   "source": [
    "a = 100.10\n",
    "print(type(a))\n",
    "print(id(a))"
   ]
  },
  {
   "cell_type": "code",
   "execution_count": null,
   "id": "35cef698",
   "metadata": {},
   "outputs": [],
   "source": [
    "# Q.2 Arithmetic Operations on float\n",
    "# Take two different float values.\n",
    "# Store them in two different variables.\n",
    "# Do below operations on them:-\n",
    "# Find sum of both numbers\n",
    "# Find difference between them\n",
    "# Find the product of both numbers.\n",
    "# Find value after dividing first num with second number\n",
    "# Find the remainder after dividing first number with second number\n",
    "# Find the quotient after dividing first number with second number\n",
    "# Find the result of the first num to the power of the second number."
   ]
  },
  {
   "cell_type": "code",
   "execution_count": 15,
   "id": "b53bba59",
   "metadata": {},
   "outputs": [
    {
     "name": "stdout",
     "output_type": "stream",
     "text": [
      "30.299999999999997\n",
      "-10.1\n",
      "204.01999999999998\n",
      "10.1\n",
      "1.9377232508118457e+20\n"
     ]
    }
   ],
   "source": [
    "b = 10.10\n",
    "c = 20.20\n",
    "\n",
    "print(b+c) #add\n",
    "print(b-c) #diff\n",
    "print(b*c) #mul\n",
    "# print(b\\c) #div 1 with 2nd\n",
    "print(b%c) #rem\n",
    "# print(b\\\\c) #find que\n",
    "print(b**c) #power\n"
   ]
  },
  {
   "cell_type": "code",
   "execution_count": null,
   "id": "f9962b65",
   "metadata": {},
   "outputs": [],
   "source": [
    "# Q.3 Comparison Operators on float\n",
    "# Take two different float values.\n",
    "# Store them in two different variables.\n",
    "# Do below operations on them:-\n",
    "# Compare these two numbers with below operator:-\n",
    "# Greater than, '>'\n",
    "# Smaller than, '<'\n",
    "# Greater than or equal to, '>='\n",
    "# Less than or equal to, '<='\n",
    "# Observe their output(return type should be boolean)\n"
   ]
  },
  {
   "cell_type": "code",
   "execution_count": 19,
   "id": "c938e8c1",
   "metadata": {},
   "outputs": [
    {
     "name": "stdout",
     "output_type": "stream",
     "text": [
      "False\n",
      "False\n",
      "True\n",
      "False\n",
      "True\n"
     ]
    }
   ],
   "source": [
    "x = 55.55\n",
    "y = 66.66\n",
    "\n",
    "print(x == y) #compare\n",
    "print(x > y)  #greater\n",
    "print(x < y)  #small\n",
    "print(x >= y)  #grater than eql to\n",
    "print(x <= y)  #less than eql to"
   ]
  },
  {
   "cell_type": "code",
   "execution_count": null,
   "id": "3d516e2e",
   "metadata": {},
   "outputs": [],
   "source": [
    "# Q.4 Equality Operator\n",
    "# Take two different float values.\n",
    "# Store them in two different variables.\n",
    "# Equate them using equality operators (==, !=)\n",
    "# Observe the output(return type should be boolean)"
   ]
  },
  {
   "cell_type": "code",
   "execution_count": 20,
   "id": "bfb62f19",
   "metadata": {},
   "outputs": [
    {
     "name": "stdout",
     "output_type": "stream",
     "text": [
      "False True\n"
     ]
    }
   ],
   "source": [
    "b = 86.20\n",
    "c = 69.33\n",
    "\n",
    "print(b == c, b != c)"
   ]
  },
  {
   "cell_type": "code",
   "execution_count": null,
   "id": "fa7468b1",
   "metadata": {},
   "outputs": [],
   "source": [
    "# Q.5 Logical operators\n",
    "# Observe the output of below code\n",
    "# Cross check the output manually\n",
    "# print(10.20 and 20.30) #both are true and second value taken\n",
    "# >Output is 20.3\n",
    "# print(0.0 and 20.30) #First is false so first value\n",
    "# taken->Output is 0.0\n",
    "\n",
    "# print(20.30 and 0.0) #Goes to till second and second value is\n",
    "# false so second is taken>Output is 0.0\n",
    "# print(0.0 and 0.0) #First is false so first value is\n",
    "# taken->Output is 0.0\n",
    "# print(10.20 or 20.30) #First is True so first value is\n",
    "# taken>Output is 10.2\n",
    "# print(0.0 or 20.30) #Goes to till second and second is true\n",
    "# second value is taken->Output is 20.3\n",
    "# print(20.30 or 0.0) #First is True so first value is\n",
    "# taken->Output is 20.3\n",
    "# print(0.0 or 0.0) #Goes to till second and second is also\n",
    "# false and second value is taken>Output is 0.0\n",
    "# print(not 10.20) #-Not of true is false->Output is False\n",
    "# print(not 0.0) #Not of false is True>Output is True\n"
   ]
  },
  {
   "cell_type": "code",
   "execution_count": 31,
   "id": "074688d9",
   "metadata": {},
   "outputs": [
    {
     "name": "stdout",
     "output_type": "stream",
     "text": [
      "20.3\n",
      "0.0\n",
      "0.0\n",
      "0.0\n",
      "10.2\n",
      "20.3\n",
      "20.3\n",
      "0.0\n",
      "False\n",
      "True\n"
     ]
    }
   ],
   "source": [
    "print(10.20 and 20.30)\n",
    "\n",
    "print(0.0 and 20.30)\n",
    "\n",
    "print(20.30 and 0.0)\n",
    "\n",
    "print(0.0 and 0.0)\n",
    "\n",
    "print(10.20 or 20.30)\n",
    "\n",
    "print(0.0 or 20.30)\n",
    "\n",
    "print(20.30 or 0.0)\n",
    "\n",
    "print(0.0 or 0.0)\n",
    "\n",
    "print(not 10.20)\n",
    "\n",
    "print(not 0.0)"
   ]
  },
  {
   "cell_type": "code",
   "execution_count": null,
   "id": "0b1605d2",
   "metadata": {},
   "outputs": [],
   "source": [
    "# Q.6 What is the output of expression inside print statement. Cross check\n",
    "# before running the program.\n",
    "# a = 10.20\n",
    "# b - 10.20\n",
    "# print(a is b) #True or False? True 10.20<256\n",
    "# print(a is not b) #True or False? False\n",
    "# Why the Id of float values are different when the same value is\n",
    "# assigned to two different variables\n",
    "# ex: a = 10.5 b=10.5. but id will be same if I assign the variable\n",
    "# having float i.e. a=c then both a and c's Id are same\n",
    "\n"
   ]
  },
  {
   "cell_type": "code",
   "execution_count": 37,
   "id": "aa1279a2",
   "metadata": {},
   "outputs": [
    {
     "name": "stdout",
     "output_type": "stream",
     "text": [
      "False\n",
      "1889228101872\n",
      "1889229201584\n",
      "True\n"
     ]
    }
   ],
   "source": [
    "a = 10.20\n",
    "b = 10.20\n",
    "\n",
    "print(a is b)\n",
    "print(id(a))\n",
    "print(id(b)) #float does not follow object reusabibility consept\n",
    "print(a is not b)"
   ]
  },
  {
   "cell_type": "code",
   "execution_count": null,
   "id": "c9023d7a",
   "metadata": {},
   "outputs": [],
   "source": [
    "# Q.7 Bitwise operation is not applicable between instances of float.\n",
    "# Why the Id of float values are different when the same value is\n",
    "# assigned to two different variables\n",
    "# ex: a = 10.5 b=10.5. but id will be same if I assign the variable\n",
    "# having float i.e. a=c then both a and c's Id are same\n",
    "# Object reusability concept is not applicable on float values."
   ]
  },
  {
   "cell_type": "code",
   "execution_count": null,
   "id": "22acd401",
   "metadata": {},
   "outputs": [],
   "source": [
    "# Q.8 Membership operation\n",
    "# in, not in are two membership operators and it returns boolean value\n",
    "# print('2.7' in 'Python2.7.8') #True\n",
    "# print(10.20 in [10,10.20,10+20j,'Python']) #True\n",
    "# print(10.20 in (10,10.20,10+20j,'Python')) # True\n",
    "# print(20.30 in {1,20.30,30+40j}) # True\n",
    "# print(2.3 in {1:100, 2.3:200, 30+40j:300}) # True\n",
    "# print(10 in range(20)) # True"
   ]
  },
  {
   "cell_type": "code",
   "execution_count": 44,
   "id": "d67b1e77",
   "metadata": {},
   "outputs": [
    {
     "name": "stdout",
     "output_type": "stream",
     "text": [
      "True\n",
      "True\n",
      "True\n",
      "True\n",
      "True\n",
      "True\n"
     ]
    }
   ],
   "source": [
    "print('2.7' in 'Python2.7.8')\n",
    "print(10.20 in [10,10.20,10+20j,'Python'])\n",
    "print(10.20 in (10,10.20,10+20j,'Python'))\n",
    "print(20.30 in {1,20.30,30+40j})\n",
    "print(2.3 in {1:100, 2.3:200, 30+40j:300})\n",
    "print(10 in range(20))"
   ]
  },
  {
   "cell_type": "code",
   "execution_count": null,
   "id": "2da3f727",
   "metadata": {},
   "outputs": [],
   "source": []
  },
  {
   "cell_type": "code",
   "execution_count": null,
   "id": "f9c0f502",
   "metadata": {},
   "outputs": [],
   "source": []
  }
 ],
 "metadata": {
  "kernelspec": {
   "display_name": "Python 3 (ipykernel)",
   "language": "python",
   "name": "python3"
  },
  "language_info": {
   "codemirror_mode": {
    "name": "ipython",
    "version": 3
   },
   "file_extension": ".py",
   "mimetype": "text/x-python",
   "name": "python",
   "nbconvert_exporter": "python",
   "pygments_lexer": "ipython3",
   "version": "3.9.13"
  }
 },
 "nbformat": 4,
 "nbformat_minor": 5
}
