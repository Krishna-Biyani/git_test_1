{
 "cells": [
  {
   "cell_type": "code",
   "execution_count": 2,
   "metadata": {},
   "outputs": [
    {
     "name": "stdout",
     "output_type": "stream",
     "text": [
      "[3, 6, 9, 12, 15, 18, 21, 24, 27]\n"
     ]
    }
   ],
   "source": [
    "# Write a Python program to triple all numbers of a given list of integers. Use Python map\n",
    "\n",
    "lst = [1, 2, 3, 4, 5, 6, 7, 8, 9]\n",
    "\n",
    "triple = list(map(lambda x:3*x, lst))\n",
    "print(triple)"
   ]
  },
  {
   "cell_type": "code",
   "execution_count": 4,
   "metadata": {},
   "outputs": [
    {
     "name": "stdout",
     "output_type": "stream",
     "text": [
      "[18, 21, 24, 27, 30]\n"
     ]
    }
   ],
   "source": [
    "# Write a Python program to add three given lists using Python map and lambda\n",
    "\n",
    "lst1 = [1, 2, 3, 4, 5]\n",
    "lst2 = [6, 7, 8, 9, 10]\n",
    "lst3 = [11, 12, 13, 14, 15]\n",
    "\n",
    "final = list(map(lambda a,b,c:a+b+c, lst1,lst2,lst3))\n",
    "print(final)"
   ]
  },
  {
   "cell_type": "code",
   "execution_count": 14,
   "metadata": {},
   "outputs": [
    {
     "name": "stdout",
     "output_type": "stream",
     "text": [
      "[(6, 6), (6, 4), (10, -4), (16, 2)]\n"
     ]
    }
   ],
   "source": [
    "# Write a Python program to add two given lists and find the difference between lists\n",
    "\n",
    "\"\"\"\n",
    "sample list\n",
    "nums1 = [6, 5, 3, 9]\n",
    "nums2 = [0, 1, 7, 7]\n",
    "\n",
    "\n",
    "output  - [(6, 6), (6, 4), (10, -4), (16, 2)]\n",
    "\n",
    "\"\"\"\n",
    "nums1 = [6, 5, 3, 9]\n",
    "nums2 = [0, 1, 7, 7]\n",
    "\n",
    "sum_diff = list(map(lambda x,y:(x+y,x-y), nums1,nums2)) #---->Here () worked as one argument.\n",
    "print(sum_diff)"
   ]
  },
  {
   "cell_type": "code",
   "execution_count": 21,
   "metadata": {},
   "outputs": [
    {
     "name": "stdout",
     "output_type": "stream",
     "text": [
      "{'R', 'A', 'M', 'N', 'T', 'Y', 'O', 'G', 'H', ' ', 'P'}\n"
     ]
    }
   ],
   "source": [
    "# Write a Python program to convert all the characters in uppercase and lowercase and eliminate duplicate letters \n",
    "# from a given sequence\n",
    "\n",
    "inp = 'python program'\n",
    "\n",
    "out = set(map(lambda x:x,  inp.upper()))\n",
    "print(out)"
   ]
  },
  {
   "cell_type": "code",
   "execution_count": 74,
   "metadata": {},
   "outputs": [
    {
     "name": "stdout",
     "output_type": "stream",
     "text": [
      "['Apple', 'Amla', 'Apricot', 'Avacado']\n"
     ]
    }
   ],
   "source": [
    "# Filter out the fruits that start with A \n",
    "\n",
    "lst = ['Apple', 'Banana', 'Amla', 'Apricot', 'Orange', 'Pineapple', 'Avacado']\n",
    "        \n",
    "A_fruits = list(filter(lambda x: x[0] == \"A\", lst))\n",
    "print(A_fruits)"
   ]
  },
  {
   "cell_type": "code",
   "execution_count": 26,
   "metadata": {},
   "outputs": [
    {
     "name": "stdout",
     "output_type": "stream",
     "text": [
      "[9, 6, 3, 11, 5, 2, 1, 32]\n"
     ]
    }
   ],
   "source": [
    "# Filter out the positve number from a list\n",
    "\n",
    "lst = [9,6,-4,3,11,5,-1,-255,2,1,-5,-6,32]\n",
    "\n",
    "pos = list(filter(lambda x: True if x>0 else False, lst))\n",
    "print(pos)"
   ]
  },
  {
   "cell_type": "code",
   "execution_count": 54,
   "metadata": {},
   "outputs": [
    {
     "name": "stdout",
     "output_type": "stream",
     "text": [
      "[6, 12, 18, 9, 25, 30, 35, 40]\n"
     ]
    }
   ],
   "source": [
    "# filter out the multiples of 3 and 5 from a list\n",
    "\n",
    "lst = [6,7,12,18,9,25,30,35,2,40]\n",
    "\n",
    "multiple = list(filter(lambda x: True if (x%3==0 or x%5==0) else False, lst))\n",
    "print(multiple)"
   ]
  },
  {
   "cell_type": "code",
   "execution_count": 61,
   "metadata": {},
   "outputs": [
    {
     "name": "stdout",
     "output_type": "stream",
     "text": [
      "easier.\n"
     ]
    }
   ],
   "source": [
    "# find the max string using reuduce function\n",
    "\n",
    "# we have to import reduce function first\n",
    "from functools import reduce\n",
    "\n",
    "lst = ['python', 'make', 'work', 'easier.']\n",
    "\n",
    "maxm = reduce(lambda x,y:x if len(x)>len(y) else y, lst)\n",
    "print(maxm)"
   ]
  },
  {
   "cell_type": "code",
   "execution_count": 72,
   "metadata": {},
   "outputs": [
    {
     "name": "stdout",
     "output_type": "stream",
     "text": [
      "mean:  18.4\n",
      "mean:  40\n",
      "mean:  2\n"
     ]
    }
   ],
   "source": [
    "# find the mean , max and min of a given list using reduce function\n",
    "\n",
    "lst = [6,7,12,18,9,25,30,35,2,40]\n",
    "\n",
    "# for mean\n",
    "mean = reduce(lambda x,y: (x+y), lst)/len(lst)\n",
    "print('mean: ',mean)\n",
    "\n",
    "# for max\n",
    "mean = reduce(lambda x,y: x if x>y else y, lst)\n",
    "print('mean: ',mean)\n",
    "\n",
    "# for min\n",
    "mean = reduce(lambda x,y: x if x<y else y, lst)\n",
    "print('mean: ',mean)"
   ]
  },
  {
   "cell_type": "code",
   "execution_count": null,
   "metadata": {},
   "outputs": [],
   "source": []
  }
 ],
 "metadata": {
  "kernelspec": {
   "display_name": "Python 3 (ipykernel)",
   "language": "python",
   "name": "python3"
  },
  "language_info": {
   "codemirror_mode": {
    "name": "ipython",
    "version": 3
   },
   "file_extension": ".py",
   "mimetype": "text/x-python",
   "name": "python",
   "nbconvert_exporter": "python",
   "pygments_lexer": "ipython3",
   "version": "3.9.13"
  }
 },
 "nbformat": 4,
 "nbformat_minor": 4
}
