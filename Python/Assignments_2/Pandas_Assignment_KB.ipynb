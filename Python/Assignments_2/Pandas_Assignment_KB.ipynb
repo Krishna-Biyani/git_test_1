{
 "cells": [
  {
   "cell_type": "code",
   "execution_count": 12,
   "id": "e257d72b",
   "metadata": {},
   "outputs": [],
   "source": [
    "import pandas as pd\n",
    "import numpy as np"
   ]
  },
  {
   "cell_type": "code",
   "execution_count": 18,
   "id": "ac4759e9",
   "metadata": {},
   "outputs": [
    {
     "data": {
      "text/plain": [
       "numpy.ndarray"
      ]
     },
     "execution_count": 18,
     "metadata": {},
     "output_type": "execute_result"
    }
   ],
   "source": [
    "#  Write a Python program to create and display a onedimensional array-like object containing an array of data using Pandas module.\n",
    "\n",
    "s1 = pd.Series([1,2,3,4,6,8,9,2,3])\n",
    "s1\n",
    "val = s1.values\n",
    "type(val)"
   ]
  },
  {
   "cell_type": "code",
   "execution_count": 6,
   "id": "bc21f226",
   "metadata": {},
   "outputs": [
    {
     "ename": "AttributeError",
     "evalue": "'IntegerArray' object has no attribute 'dia'",
     "output_type": "error",
     "traceback": [
      "\u001b[1;31m---------------------------------------------------------------------------\u001b[0m",
      "\u001b[1;31mAttributeError\u001b[0m                            Traceback (most recent call last)",
      "\u001b[1;32m~\\AppData\\Local\\Temp\\ipykernel_1804\\255891430.py\u001b[0m in \u001b[0;36m<module>\u001b[1;34m\u001b[0m\n\u001b[1;32m----> 1\u001b[1;33m \u001b[0mlst\u001b[0m\u001b[1;33m.\u001b[0m\u001b[0mdia\u001b[0m\u001b[1;33m\u001b[0m\u001b[1;33m\u001b[0m\u001b[0m\n\u001b[0m",
      "\u001b[1;31mAttributeError\u001b[0m: 'IntegerArray' object has no attribute 'dia'"
     ]
    }
   ],
   "source": [
    "# Write a Python program to convert a Panda module Series to Python list and its type.\n"
   ]
  },
  {
   "cell_type": "code",
   "execution_count": null,
   "id": "eedfd626",
   "metadata": {},
   "outputs": [],
   "source": [
    "# Write a Python program to add, subtract, multiple and divide two Pandas Series.\n"
   ]
  },
  {
   "cell_type": "code",
   "execution_count": null,
   "id": "e5eb9130",
   "metadata": {},
   "outputs": [],
   "source": [
    "# Write a Python program to compare the elements of the two Pandas Series.\n"
   ]
  },
  {
   "cell_type": "code",
   "execution_count": null,
   "id": "c5d89971",
   "metadata": {},
   "outputs": [],
   "source": [
    "# Write a Python program to display the following data column wise.\n"
   ]
  },
  {
   "cell_type": "code",
   "execution_count": null,
   "id": "03079820",
   "metadata": {},
   "outputs": [],
   "source": [
    "# Write a Python program to create and display a Data Frame from a specified dictionary data which has the index labels.\n"
   ]
  },
  {
   "cell_type": "code",
   "execution_count": null,
   "id": "bb4aefe2",
   "metadata": {},
   "outputs": [],
   "source": [
    "# Write a Python program to select the specified columns and rows from a given Data Frame.\n"
   ]
  },
  {
   "cell_type": "code",
   "execution_count": null,
   "id": "50de6994",
   "metadata": {},
   "outputs": [],
   "source": [
    "# Write a Python program to select the rows the score is between 15 and 20 (inclusive).\n"
   ]
  },
  {
   "cell_type": "code",
   "execution_count": null,
   "id": "ae200dac",
   "metadata": {},
   "outputs": [],
   "source": [
    "# Write a Python program to select the rows where number of\n",
    "# attempts in the examination is less than 2 and score greater than 15.\n"
   ]
  },
  {
   "cell_type": "code",
   "execution_count": null,
   "id": "d33d754b",
   "metadata": {},
   "outputs": [],
   "source": [
    "# Write a Python program to append a new row 'k' to Data Frame\n",
    "# with given values for each column. Now delete the new row and return the original data frame.\n"
   ]
  },
  {
   "cell_type": "code",
   "execution_count": null,
   "id": "987064a1",
   "metadata": {},
   "outputs": [],
   "source": [
    "# Write a Python program to sort the data frame first by 'name' in descending order, then by 'score' in ascending order.\n"
   ]
  },
  {
   "cell_type": "code",
   "execution_count": null,
   "id": "967aa0e7",
   "metadata": {},
   "outputs": [],
   "source": [
    "# Write a Python program to insert a new column in existing Data Frame.\n"
   ]
  },
  {
   "cell_type": "code",
   "execution_count": null,
   "id": "d966eaa7",
   "metadata": {},
   "outputs": [],
   "source": [
    "# Write a Python program to change the name 'James' to 'Suresh' in name column of the data frame."
   ]
  },
  {
   "cell_type": "code",
   "execution_count": null,
   "id": "57d00e46",
   "metadata": {},
   "outputs": [],
   "source": []
  },
  {
   "cell_type": "code",
   "execution_count": null,
   "id": "930d4613",
   "metadata": {},
   "outputs": [],
   "source": []
  }
 ],
 "metadata": {
  "kernelspec": {
   "display_name": "Python 3 (ipykernel)",
   "language": "python",
   "name": "python3"
  },
  "language_info": {
   "codemirror_mode": {
    "name": "ipython",
    "version": 3
   },
   "file_extension": ".py",
   "mimetype": "text/x-python",
   "name": "python",
   "nbconvert_exporter": "python",
   "pygments_lexer": "ipython3",
   "version": "3.9.13"
  }
 },
 "nbformat": 4,
 "nbformat_minor": 5
}
